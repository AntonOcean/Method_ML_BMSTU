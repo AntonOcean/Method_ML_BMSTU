{
  "nbformat": 4,
  "nbformat_minor": 0,
  "metadata": {
    "colab": {
      "name": "Copy of RK1(3-7).ipynb",
      "version": "0.3.2",
      "provenance": []
    },
    "kernelspec": {
      "name": "python3",
      "language": "python",
      "display_name": "Python 3"
    }
  },
  "cells": [
    {
      "metadata": {
        "id": "-sY6ahcN5D9W",
        "colab_type": "text",
        "pycharm": {}
      },
      "cell_type": "markdown",
      "source": [
        "# Вариант 3. Дата сет - 7"
      ]
    },
    {
      "metadata": {
        "id": "pXfgs-aXKt1v",
        "colab_type": "code",
        "colab": {},
        "pycharm": {
          "is_executing": false
        }
      },
      "cell_type": "code",
      "source": "import numpy as np\nimport pandas as pd\n# import os\nimport seaborn as sns\nimport matplotlib.pyplot as plt\n%matplotlib inline \nsns.set(style\u003d\"ticks\")",
      "execution_count": 27,
      "outputs": []
    },
    {
      "metadata": {
        "id": "5wWl9gI-LKcj",
        "colab_type": "code",
        "outputId": "8a29c731-925c-45fd-b193-1415e1b5cc3c",
        "colab": {
          "base_uri": "https://localhost:8080/",
          "height": 33
        },
        "pycharm": {
          "is_executing": false
        }
      },
      "cell_type": "code",
      "source": "# from google.colab import drive\n# drive.mount(\u0027/content/drive\u0027, force_remount\u003dTrue)\n\n# os.listdir()\n\n# Будем анализировать данные только на обучающей выборке\ndata \u003d pd.read_csv(\u0027restaurant-scores-lives-standard.csv\u0027, sep\u003d\",\", engine\u003d\u0027python\u0027)",
      "execution_count": 28,
      "outputs": []
    },
    {
      "metadata": {
        "id": "fMEiIDpBLhWa",
        "colab_type": "code",
        "outputId": "4953e9af-298e-455e-9aa2-2bef93ffeced",
        "colab": {
          "base_uri": "https://localhost:8080/",
          "height": 434
        },
        "pycharm": {
          "is_executing": false
        }
      },
      "cell_type": "code",
      "source": [
        "data.head()"
      ],
      "execution_count": 29,
      "outputs": [
        {
          "data": {
            "text/plain": "   business_id               business_name business_address  business_city  \\\n0         1977  BURMA SUPERSTAR RESTAURANT   309 CLEMENT St  San Francisco   \n1         1977  BURMA SUPERSTAR RESTAURANT   309 CLEMENT St  San Francisco   \n2         3029         TENNESSEE GRILL INC  1128 TARAVAL St  San Francisco   \n3         1977  BURMA SUPERSTAR RESTAURANT   309 CLEMENT St  San Francisco   \n4        69294                    We Sushi         428 11th  San Francisco   \n\n  business_state business_postal_code  business_latitude  business_longitude  \\\n0             CA                94118          37.783004         -122.462539   \n1             CA                94118          37.783004         -122.462539   \n2             CA                94116          37.742957         -122.478332   \n3             CA                94118          37.783004         -122.462539   \n4             CA                  NaN          37.770613         -122.412191   \n\n                                   business_location  business_phone_number  \\\n0  {\u0027human_address\u0027: \u0027{\"address\":\"\",\"city\":\"\",\"st...                    NaN   \n1  {\u0027human_address\u0027: \u0027{\"address\":\"\",\"city\":\"\",\"st...                    NaN   \n2  {\u0027human_address\u0027: \u0027{\"address\":\"\",\"city\":\"\",\"st...                    NaN   \n3  {\u0027human_address\u0027: \u0027{\"address\":\"\",\"city\":\"\",\"st...                    NaN   \n4  {\u0027human_address\u0027: \u0027{\"address\":\"\",\"city\":\"\",\"st...                    NaN   \n\n    inspection_id      inspection_date  inspection_score  \\\n0   1977_20160328  2016-03-28T00:00:00              87.0   \n1   1977_20160328  2016-03-28T00:00:00              87.0   \n2   3029_20160328  2016-03-28T00:00:00               NaN   \n3   1977_20160328  2016-03-28T00:00:00              87.0   \n4  69294_20160328  2016-03-28T00:00:00              83.0   \n\n         inspection_type           violation_id  \\\n0  Routine - Unscheduled   1977_20160328_103105   \n1  Routine - Unscheduled   1977_20160328_103145   \n2  Reinspection/Followup                    NaN   \n3  Routine - Unscheduled   1977_20160328_103119   \n4  Routine - Unscheduled  69294_20160328_103149   \n\n                               violation_description  risk_category  \n0                           Improper cooling methods      High Risk  \n1   Improper storage of equipment utensils or linens       Low Risk  \n2                                                NaN            NaN  \n3  Inadequate and inaccessible handwashing facili...  Moderate Risk  \n4  Wiping cloths not clean or properly stored or ...       Low Risk  ",
            "text/html": "\u003cdiv\u003e\n\u003cstyle scoped\u003e\n    .dataframe tbody tr th:only-of-type {\n        vertical-align: middle;\n    }\n\n    .dataframe tbody tr th {\n        vertical-align: top;\n    }\n\n    .dataframe thead th {\n        text-align: right;\n    }\n\u003c/style\u003e\n\u003ctable border\u003d\"1\" class\u003d\"dataframe\"\u003e\n  \u003cthead\u003e\n    \u003ctr style\u003d\"text-align: right;\"\u003e\n      \u003cth\u003e\u003c/th\u003e\n      \u003cth\u003ebusiness_id\u003c/th\u003e\n      \u003cth\u003ebusiness_name\u003c/th\u003e\n      \u003cth\u003ebusiness_address\u003c/th\u003e\n      \u003cth\u003ebusiness_city\u003c/th\u003e\n      \u003cth\u003ebusiness_state\u003c/th\u003e\n      \u003cth\u003ebusiness_postal_code\u003c/th\u003e\n      \u003cth\u003ebusiness_latitude\u003c/th\u003e\n      \u003cth\u003ebusiness_longitude\u003c/th\u003e\n      \u003cth\u003ebusiness_location\u003c/th\u003e\n      \u003cth\u003ebusiness_phone_number\u003c/th\u003e\n      \u003cth\u003einspection_id\u003c/th\u003e\n      \u003cth\u003einspection_date\u003c/th\u003e\n      \u003cth\u003einspection_score\u003c/th\u003e\n      \u003cth\u003einspection_type\u003c/th\u003e\n      \u003cth\u003eviolation_id\u003c/th\u003e\n      \u003cth\u003eviolation_description\u003c/th\u003e\n      \u003cth\u003erisk_category\u003c/th\u003e\n    \u003c/tr\u003e\n  \u003c/thead\u003e\n  \u003ctbody\u003e\n    \u003ctr\u003e\n      \u003cth\u003e0\u003c/th\u003e\n      \u003ctd\u003e1977\u003c/td\u003e\n      \u003ctd\u003eBURMA SUPERSTAR RESTAURANT\u003c/td\u003e\n      \u003ctd\u003e309 CLEMENT St\u003c/td\u003e\n      \u003ctd\u003eSan Francisco\u003c/td\u003e\n      \u003ctd\u003eCA\u003c/td\u003e\n      \u003ctd\u003e94118\u003c/td\u003e\n      \u003ctd\u003e37.783004\u003c/td\u003e\n      \u003ctd\u003e-122.462539\u003c/td\u003e\n      \u003ctd\u003e{\u0027human_address\u0027: \u0027{\"address\":\"\",\"city\":\"\",\"st...\u003c/td\u003e\n      \u003ctd\u003eNaN\u003c/td\u003e\n      \u003ctd\u003e1977_20160328\u003c/td\u003e\n      \u003ctd\u003e2016-03-28T00:00:00\u003c/td\u003e\n      \u003ctd\u003e87.0\u003c/td\u003e\n      \u003ctd\u003eRoutine - Unscheduled\u003c/td\u003e\n      \u003ctd\u003e1977_20160328_103105\u003c/td\u003e\n      \u003ctd\u003eImproper cooling methods\u003c/td\u003e\n      \u003ctd\u003eHigh Risk\u003c/td\u003e\n    \u003c/tr\u003e\n    \u003ctr\u003e\n      \u003cth\u003e1\u003c/th\u003e\n      \u003ctd\u003e1977\u003c/td\u003e\n      \u003ctd\u003eBURMA SUPERSTAR RESTAURANT\u003c/td\u003e\n      \u003ctd\u003e309 CLEMENT St\u003c/td\u003e\n      \u003ctd\u003eSan Francisco\u003c/td\u003e\n      \u003ctd\u003eCA\u003c/td\u003e\n      \u003ctd\u003e94118\u003c/td\u003e\n      \u003ctd\u003e37.783004\u003c/td\u003e\n      \u003ctd\u003e-122.462539\u003c/td\u003e\n      \u003ctd\u003e{\u0027human_address\u0027: \u0027{\"address\":\"\",\"city\":\"\",\"st...\u003c/td\u003e\n      \u003ctd\u003eNaN\u003c/td\u003e\n      \u003ctd\u003e1977_20160328\u003c/td\u003e\n      \u003ctd\u003e2016-03-28T00:00:00\u003c/td\u003e\n      \u003ctd\u003e87.0\u003c/td\u003e\n      \u003ctd\u003eRoutine - Unscheduled\u003c/td\u003e\n      \u003ctd\u003e1977_20160328_103145\u003c/td\u003e\n      \u003ctd\u003eImproper storage of equipment utensils or linens\u003c/td\u003e\n      \u003ctd\u003eLow Risk\u003c/td\u003e\n    \u003c/tr\u003e\n    \u003ctr\u003e\n      \u003cth\u003e2\u003c/th\u003e\n      \u003ctd\u003e3029\u003c/td\u003e\n      \u003ctd\u003eTENNESSEE GRILL INC\u003c/td\u003e\n      \u003ctd\u003e1128 TARAVAL St\u003c/td\u003e\n      \u003ctd\u003eSan Francisco\u003c/td\u003e\n      \u003ctd\u003eCA\u003c/td\u003e\n      \u003ctd\u003e94116\u003c/td\u003e\n      \u003ctd\u003e37.742957\u003c/td\u003e\n      \u003ctd\u003e-122.478332\u003c/td\u003e\n      \u003ctd\u003e{\u0027human_address\u0027: \u0027{\"address\":\"\",\"city\":\"\",\"st...\u003c/td\u003e\n      \u003ctd\u003eNaN\u003c/td\u003e\n      \u003ctd\u003e3029_20160328\u003c/td\u003e\n      \u003ctd\u003e2016-03-28T00:00:00\u003c/td\u003e\n      \u003ctd\u003eNaN\u003c/td\u003e\n      \u003ctd\u003eReinspection/Followup\u003c/td\u003e\n      \u003ctd\u003eNaN\u003c/td\u003e\n      \u003ctd\u003eNaN\u003c/td\u003e\n      \u003ctd\u003eNaN\u003c/td\u003e\n    \u003c/tr\u003e\n    \u003ctr\u003e\n      \u003cth\u003e3\u003c/th\u003e\n      \u003ctd\u003e1977\u003c/td\u003e\n      \u003ctd\u003eBURMA SUPERSTAR RESTAURANT\u003c/td\u003e\n      \u003ctd\u003e309 CLEMENT St\u003c/td\u003e\n      \u003ctd\u003eSan Francisco\u003c/td\u003e\n      \u003ctd\u003eCA\u003c/td\u003e\n      \u003ctd\u003e94118\u003c/td\u003e\n      \u003ctd\u003e37.783004\u003c/td\u003e\n      \u003ctd\u003e-122.462539\u003c/td\u003e\n      \u003ctd\u003e{\u0027human_address\u0027: \u0027{\"address\":\"\",\"city\":\"\",\"st...\u003c/td\u003e\n      \u003ctd\u003eNaN\u003c/td\u003e\n      \u003ctd\u003e1977_20160328\u003c/td\u003e\n      \u003ctd\u003e2016-03-28T00:00:00\u003c/td\u003e\n      \u003ctd\u003e87.0\u003c/td\u003e\n      \u003ctd\u003eRoutine - Unscheduled\u003c/td\u003e\n      \u003ctd\u003e1977_20160328_103119\u003c/td\u003e\n      \u003ctd\u003eInadequate and inaccessible handwashing facili...\u003c/td\u003e\n      \u003ctd\u003eModerate Risk\u003c/td\u003e\n    \u003c/tr\u003e\n    \u003ctr\u003e\n      \u003cth\u003e4\u003c/th\u003e\n      \u003ctd\u003e69294\u003c/td\u003e\n      \u003ctd\u003eWe Sushi\u003c/td\u003e\n      \u003ctd\u003e428 11th\u003c/td\u003e\n      \u003ctd\u003eSan Francisco\u003c/td\u003e\n      \u003ctd\u003eCA\u003c/td\u003e\n      \u003ctd\u003eNaN\u003c/td\u003e\n      \u003ctd\u003e37.770613\u003c/td\u003e\n      \u003ctd\u003e-122.412191\u003c/td\u003e\n      \u003ctd\u003e{\u0027human_address\u0027: \u0027{\"address\":\"\",\"city\":\"\",\"st...\u003c/td\u003e\n      \u003ctd\u003eNaN\u003c/td\u003e\n      \u003ctd\u003e69294_20160328\u003c/td\u003e\n      \u003ctd\u003e2016-03-28T00:00:00\u003c/td\u003e\n      \u003ctd\u003e83.0\u003c/td\u003e\n      \u003ctd\u003eRoutine - Unscheduled\u003c/td\u003e\n      \u003ctd\u003e69294_20160328_103149\u003c/td\u003e\n      \u003ctd\u003eWiping cloths not clean or properly stored or ...\u003c/td\u003e\n      \u003ctd\u003eLow Risk\u003c/td\u003e\n    \u003c/tr\u003e\n  \u003c/tbody\u003e\n\u003c/table\u003e\n\u003c/div\u003e"
          },
          "metadata": {},
          "output_type": "execute_result",
          "execution_count": 29
        }
      ]
    },
    {
      "metadata": {
        "id": "3v3K2hLWMAEL",
        "colab_type": "text",
        "pycharm": {}
      },
      "cell_type": "markdown",
      "source": [
        "# Масштабирование одного из признаков\n",
        "В качесте признака выбран - \u0027inspection_score\u0027 (Оценка инспекции)"
      ]
    },
    {
      "metadata": {
        "id": "KvQ2dVf_LkWh",
        "colab_type": "code",
        "colab": {},
        "pycharm": {
          "is_executing": false
        }
      },
      "cell_type": "code",
      "source": [
        "from sklearn.preprocessing import MinMaxScaler, StandardScaler, Normalizer\n"
      ],
      "execution_count": 11,
      "outputs": []
    },
    {
      "metadata": {
        "id": "D2CgwLy_Mprj",
        "colab_type": "code",
        "outputId": "e5bf212a-7943-4945-9413-c637d8213014",
        "colab": {
          "base_uri": "https://localhost:8080/",
          "height": 425
        },
        "pycharm": {
          "is_executing": false
        }
      },
      "cell_type": "code",
      "source": [
        "sc1 \u003d MinMaxScaler()\n",
        "sc1_data \u003d sc1.fit_transform(data[[\u0027inspection_score\u0027]])\n",
        "plt.hist(data[\u0027inspection_score\u0027], 100)\n",
        "plt.show()"
      ],
      "execution_count": 30,
      "outputs": [
        {
          "name": "stderr",
          "text": [
            "/home/antony/PycharmProjects/ML_MGTU/venv/lib/python3.6/site-packages/numpy/lib/histograms.py:824: RuntimeWarning: invalid value encountered in greater_equal\n  keep \u003d (tmp_a \u003e\u003d first_edge)\n/home/antony/PycharmProjects/ML_MGTU/venv/lib/python3.6/site-packages/numpy/lib/histograms.py:825: RuntimeWarning: invalid value encountered in less_equal\n  keep \u0026\u003d (tmp_a \u003c\u003d last_edge)\n"
          ],
          "output_type": "stream"
        },
        {
          "data": {
            "text/plain": "\u003cFigure size 432x288 with 1 Axes\u003e",
            "image/png": "[encoded data removed]"
          },
          "metadata": {},
          "output_type": "display_data"
        }
      ]
    },
    {
      "metadata": {
        "id": "-BoTSyRvNNLn",
        "colab_type": "code",
        "outputId": "47405e5b-1ba5-4e4b-9a04-7dfee40a743a",
        "colab": {
          "base_uri": "https://localhost:8080/",
          "height": 425
        },
        "pycharm": {
          "is_executing": false
        }
      },
      "cell_type": "code",
      "source": [
        "plt.hist(sc1_data, 100)\n",
        "plt.show()"
      ],
      "execution_count": 14,
      "outputs": [
        {
          "data": {
            "text/plain": "\u003cFigure size 432x288 with 1 Axes\u003e",
            "image/png": "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\u003d\n"
          },
          "metadata": {},
          "output_type": "display_data"
        }
      ]
    },
    {
      "metadata": {
        "id": "fC1e6MpyN9Ic",
        "colab_type": "text",
        "pycharm": {}
      },
      "cell_type": "markdown",
      "source": [
        "# Преобразование категориальных признаков "
      ]
    },
    {
      "metadata": {
        "id": "FJZscCXNOAHa",
        "colab_type": "text",
        "pycharm": {}
      },
      "cell_type": "markdown",
      "source": [
        "## label encoding"
      ]
    },
    {
      "metadata": {
        "id": "W2QWJ8IpOM8N",
        "colab_type": "code",
        "colab": {},
        "pycharm": {
          "is_executing": false
        }
      },
      "cell_type": "code",
      "source": [
        "from sklearn.preprocessing import LabelEncoder, OneHotEncoder"
      ],
      "execution_count": 15,
      "outputs": []
    },
    {
      "metadata": {
        "id": "cuCOPU8ORSxB",
        "colab_type": "code",
        "colab": {},
        "pycharm": {
          "is_executing": false
        }
      },
      "cell_type": "code",
      "source": [
        "data_new \u003d data.fillna(value\u003d{\u0027risk_category\u0027: \u0027no\u0027})"
      ],
      "execution_count": 17,
      "outputs": []
    },
    {
      "metadata": {
        "id": "WR2qJHB8Qu_J",
        "colab_type": "code",
        "outputId": "0be2f04d-b4ec-49ad-fb7d-04ef71d24e31",
        "colab": {
          "base_uri": "https://localhost:8080/",
          "height": 33
        },
        "pycharm": {
          "is_executing": false
        }
      },
      "cell_type": "code",
      "source": [
        "data_new[\u0027risk_category\u0027].unique()"
      ],
      "execution_count": 18,
      "outputs": [
        {
          "data": {
            "text/plain": "array([\u0027High Risk\u0027, \u0027Low Risk\u0027, \u0027no\u0027, \u0027Moderate Risk\u0027], dtype\u003dobject)"
          },
          "metadata": {},
          "output_type": "execute_result",
          "execution_count": 18
        }
      ]
    },
    {
      "metadata": {
        "id": "V2eQYlvlOW5C",
        "colab_type": "code",
        "colab": {},
        "pycharm": {
          "is_executing": false
        }
      },
      "cell_type": "code",
      "source": [
        "le \u003d LabelEncoder()\n",
        "data_new_1 \u003d le.fit_transform(data_new[\u0027risk_category\u0027])"
      ],
      "execution_count": 19,
      "outputs": []
    },
    {
      "metadata": {
        "id": "lsiqgK8SOaC6",
        "colab_type": "code",
        "outputId": "95b62bbb-46c8-4c53-893d-d32b1139110c",
        "colab": {
          "base_uri": "https://localhost:8080/",
          "height": 33
        },
        "pycharm": {
          "is_executing": false
        }
      },
      "cell_type": "code",
      "source": [
        "np.unique(data_new_1)"
      ],
      "execution_count": 20,
      "outputs": [
        {
          "data": {
            "text/plain": "array([0, 1, 2, 3])"
          },
          "metadata": {},
          "output_type": "execute_result",
          "execution_count": 20
        }
      ]
    },
    {
      "metadata": {
        "id": "t1GB-fzkOfyt",
        "colab_type": "code",
        "outputId": "7d441e8c-79e5-433b-fbe8-9b036a1c7c05",
        "colab": {
          "base_uri": "https://localhost:8080/",
          "height": 33
        },
        "pycharm": {
          "is_executing": false
        }
      },
      "cell_type": "code",
      "source": [
        "le.inverse_transform([0, 1, 2, 3])"
      ],
      "execution_count": 21,
      "outputs": [
        {
          "data": {
            "text/plain": "array([\u0027High Risk\u0027, \u0027Low Risk\u0027, \u0027Moderate Risk\u0027, \u0027no\u0027], dtype\u003dobject)"
          },
          "metadata": {},
          "output_type": "execute_result",
          "execution_count": 21
        }
      ]
    },
    {
      "metadata": {
        "id": "MA7qdb-6OGki",
        "colab_type": "text",
        "pycharm": {}
      },
      "cell_type": "markdown",
      "source": [
        "## one hot encoding"
      ]
    },
    {
      "metadata": {
        "id": "ckCGS1W_TUrl",
        "colab_type": "code",
        "outputId": "2398df95-8f4f-4df2-d0fc-d3e71a200fbe",
        "colab": {
          "base_uri": "https://localhost:8080/",
          "height": 133
        },
        "pycharm": {
          "is_executing": false
        }
      },
      "cell_type": "code",
      "source": [
        "data[\u0027inspection_type\u0027].unique()"
      ],
      "execution_count": 22,
      "outputs": [
        {
          "data": {
            "text/plain": "array([\u0027Routine - Unscheduled\u0027, \u0027Reinspection/Followup\u0027,\n       \u0027Non-inspection site visit\u0027, \u0027New Construction\u0027,\n       \u0027Foodborne Illness Investigation\u0027, \u0027Complaint\u0027, \u0027New Ownership\u0027,\n       \u0027Complaint Reinspection/Followup\u0027, \u0027Structural Inspection\u0027,\n       \u0027Routine - Scheduled\u0027, \u0027Special Event\u0027,\n       \u0027Community Health Assessment\u0027, \u0027Administrative or Document Review\u0027,\n       \u0027New Ownership - Followup\u0027, \u0027Multi-agency Investigation\u0027],\n      dtype\u003dobject)"
          },
          "metadata": {},
          "output_type": "execute_result",
          "execution_count": 22
        }
      ]
    },
    {
      "metadata": {
        "id": "kaAVO7tkS4qa",
        "colab_type": "code",
        "colab": {},
        "pycharm": {
          "is_executing": false
        }
      },
      "cell_type": "code",
      "source": [
        "ohe \u003d OneHotEncoder()\n",
        "data_one \u003d ohe.fit_transform(data[[\u0027inspection_type\u0027]])"
      ],
      "execution_count": 23,
      "outputs": []
    },
    {
      "metadata": {
        "id": "YLRN_-4ZUTLc",
        "colab_type": "code",
        "outputId": "6a3d09ff-f3e5-4a1a-94ee-80f253a7879c",
        "colab": {
          "base_uri": "https://localhost:8080/",
          "height": 350
        },
        "pycharm": {
          "is_executing": false
        }
      },
      "cell_type": "code",
      "source": [
        "data_one.todense()[0:20]"
      ],
      "execution_count": 24,
      "outputs": [
        {
          "data": {
            "text/plain": "matrix([[0., 0., 0., 0., 0., 0., 0., 0., 0., 0., 0., 0., 1., 0., 0.],\n        [0., 0., 0., 0., 0., 0., 0., 0., 0., 0., 0., 0., 1., 0., 0.],\n        [0., 0., 0., 0., 0., 0., 0., 0., 0., 0., 1., 0., 0., 0., 0.],\n        [0., 0., 0., 0., 0., 0., 0., 0., 0., 0., 0., 0., 1., 0., 0.],\n        [0., 0., 0., 0., 0., 0., 0., 0., 0., 0., 0., 0., 1., 0., 0.],\n        [0., 0., 0., 0., 0., 0., 0., 0., 0., 0., 0., 0., 1., 0., 0.],\n        [0., 0., 0., 0., 0., 0., 0., 0., 0., 1., 0., 0., 0., 0., 0.],\n        [0., 0., 0., 0., 0., 0., 0., 0., 0., 0., 0., 0., 1., 0., 0.],\n        [0., 0., 0., 0., 0., 0., 0., 0., 0., 0., 1., 0., 0., 0., 0.],\n        [0., 0., 0., 0., 0., 0., 0., 0., 0., 0., 1., 0., 0., 0., 0.],\n        [0., 0., 0., 0., 0., 0., 0., 0., 0., 0., 0., 0., 1., 0., 0.],\n        [0., 0., 0., 0., 0., 0., 0., 0., 0., 0., 0., 0., 1., 0., 0.],\n        [0., 0., 0., 0., 0., 0., 0., 0., 0., 0., 0., 0., 1., 0., 0.],\n        [0., 0., 0., 0., 0., 0., 0., 0., 0., 0., 0., 0., 1., 0., 0.],\n        [0., 0., 0., 0., 0., 0., 0., 0., 0., 0., 0., 0., 1., 0., 0.],\n        [0., 0., 0., 0., 0., 0., 0., 0., 0., 0., 0., 0., 1., 0., 0.],\n        [0., 0., 0., 0., 0., 0., 0., 0., 0., 0., 0., 0., 1., 0., 0.],\n        [0., 0., 0., 0., 0., 0., 0., 0., 0., 0., 0., 0., 1., 0., 0.],\n        [0., 0., 0., 0., 0., 0., 0., 0., 0., 0., 0., 0., 1., 0., 0.],\n        [0., 0., 0., 0., 0., 0., 0., 0., 0., 0., 0., 0., 1., 0., 0.]])"
          },
          "metadata": {},
          "output_type": "execute_result",
          "execution_count": 24
        }
      ]
    },
    {
      "metadata": {
        "id": "J8l9tlvOWOf7",
        "colab_type": "code",
        "outputId": "2efe3078-25ec-45c6-fdd1-507ee9f7ea85",
        "colab": {
          "base_uri": "https://localhost:8080/",
          "height": 367
        },
        "pycharm": {
          "is_executing": false
        }
      },
      "cell_type": "code",
      "source": [
        "data[\u0027inspection_type\u0027].head(20)"
      ],
      "execution_count": 25,
      "outputs": [
        {
          "data": {
            "text/plain": "0         Routine - Unscheduled\n1         Routine - Unscheduled\n2         Reinspection/Followup\n3         Routine - Unscheduled\n4         Routine - Unscheduled\n5         Routine - Unscheduled\n6     Non-inspection site visit\n7         Routine - Unscheduled\n8         Reinspection/Followup\n9         Reinspection/Followup\n10        Routine - Unscheduled\n11        Routine - Unscheduled\n12        Routine - Unscheduled\n13        Routine - Unscheduled\n14        Routine - Unscheduled\n15        Routine - Unscheduled\n16        Routine - Unscheduled\n17        Routine - Unscheduled\n18        Routine - Unscheduled\n19        Routine - Unscheduled\nName: inspection_type, dtype: object"
          },
          "metadata": {},
          "output_type": "execute_result",
          "execution_count": 25
        }
      ]
    },
    {
      "metadata": {
        "id": "lx0350lJ0CE6",
        "colab_type": "code",
        "outputId": "1743221c-ac1b-44f7-f02b-f636fadbfede",
        "colab": {
          "base_uri": "https://localhost:8080/",
          "height": 83
        },
        "pycharm": {
          "is_executing": false
        }
      },
      "cell_type": "code",
      "source": "# !jupyter nbconvert —to html \"/content/drive/My Drive/Colab Notebooks/MMO/RK1(3-7).ipynb\"",
      "execution_count": 26,
      "outputs": []
    }
  ]
}